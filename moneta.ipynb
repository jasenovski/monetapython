{
 "cells": [
  {
   "cell_type": "markdown",
   "id": "01e14efa",
   "metadata": {},
   "source": [
    "!pip install yfinance"
   ]
  },
  {
   "cell_type": "markdown",
   "id": "79f71bf1",
   "metadata": {},
   "source": [
    "!pip install pandas_datareader"
   ]
  },
  {
   "cell_type": "code",
   "execution_count": 1,
   "id": "8d68aab2",
   "metadata": {},
   "outputs": [],
   "source": [
    "# Manipulação de Dados\n",
    "import numpy as np\n",
    "import pandas as pd\n",
    "from math import nan\n",
    "from datetime import datetime\n",
    "# Obtenção das cotações\n",
    "import pandas_datareader.data as web\n",
    "import yfinance as yf\n",
    "import os"
   ]
  },
  {
   "cell_type": "code",
   "execution_count": 2,
   "id": "b9979375",
   "metadata": {},
   "outputs": [],
   "source": [
    "def buscar_cotacoes(arquivo_txt, dias_cotacoes, country):\n",
    "\n",
    "    tickers_df = pd.read_csv(arquivo_txt, header=None)\n",
    "    tickers = []\n",
    "    if country == \"US\":\n",
    "        casas_arred = 4\n",
    "        for ticker in tickers_df[0]:\n",
    "            tickers.append(ticker)\n",
    "    elif country == \"BR\":\n",
    "        casas_arred = 0\n",
    "        for ticker in tickers_df[0]:\n",
    "            tickers.append(ticker + \".SA\")\n",
    "\n",
    "    yf.pdr_override()\n",
    "    cotations = web.get_data_yahoo(tickers, period=str(dias_cotacoes) + 'd' , threads=1)['Adj Close']\n",
    "    \n",
    "    return cotations, tickers, casas_arred"
   ]
  },
  {
   "cell_type": "code",
   "execution_count": 3,
   "id": "176dd4c8",
   "metadata": {},
   "outputs": [],
   "source": [
    "def calcular_variacoes(cotations, tickers):\n",
    "    \n",
    "    n_lins = cotations.shape[0]\n",
    "    n_cols = cotations.shape[1]\n",
    "    \n",
    "    cotations_var = np.zeros(shape=(n_lins - 1, n_cols), dtype=float)\n",
    "    cotations_var = pd.DataFrame(data=cotations_var, columns=tickers)\n",
    "    for ticker in tickers:\n",
    "        for j in range(1, n_lins):\n",
    "            cotations_var[ticker][j - 1] = (cotations[ticker][j] - cotations[ticker][j - 1]) / cotations[ticker][j - 1]\n",
    "    \n",
    "    return cotations_var"
   ]
  },
  {
   "cell_type": "code",
   "execution_count": 4,
   "id": "0a061cf1",
   "metadata": {},
   "outputs": [],
   "source": [
    "def gerar_cromos(num_cols, fixar_seed=False, seed=42, num_cromossomos=6):\n",
    "    if fixar_seed is True:\n",
    "        np.random.seed(seed)\n",
    "    \n",
    "    cromossomos = np.random.rand(num_cromossomos, num_cols)\n",
    "\n",
    "    for i in range(cromossomos.shape[0]):\n",
    "        cromossomos[i] = cromossomos[i] / cromossomos[i].sum()\n",
    "    \n",
    "    return cromossomos"
   ]
  },
  {
   "cell_type": "code",
   "execution_count": 5,
   "id": "ddb815d9",
   "metadata": {},
   "outputs": [],
   "source": [
    "def calc_retornos_riscos_carteira(cromos, medias, mat_cov):\n",
    "    retornos = cromos.dot(medias)\n",
    "    \n",
    "    num_cromossomos = len(cromos)\n",
    "    \n",
    "    riscos = np.zeros(shape=(num_cromossomos))\n",
    "    for i in range(num_cromossomos):\n",
    "        riscos[i] = cromos[i].dot(mat_cov).dot(cromos[i].T)\n",
    "    \n",
    "    return retornos, riscos"
   ]
  },
  {
   "cell_type": "code",
   "execution_count": 6,
   "id": "b480f2fb",
   "metadata": {},
   "outputs": [],
   "source": [
    "def roda_acaso(fitness_acumulado):\n",
    "    indices_sorteados = [np.inf]\n",
    "    while len(indices_sorteados) < 3:\n",
    "        alfa = np.random.rand()\n",
    "        for i in range(fitness_acumulado.shape[0]):\n",
    "            if alfa <= fitness_acumulado[i] and indices_sorteados[-1] != i:\n",
    "                indices_sorteados.append(i)\n",
    "                break\n",
    "    \n",
    "    return indices_sorteados[1:]"
   ]
  },
  {
   "cell_type": "code",
   "execution_count": 7,
   "id": "392990f2",
   "metadata": {},
   "outputs": [],
   "source": [
    "def mutacao_um(cromo, posicoes):\n",
    "    cromossomo_final = cromo.copy()\n",
    "    valor_um = cromossomo_final[posicoes[0]]\n",
    "    valor_dois = cromossomo_final[posicoes[1]]\n",
    "    cromossomo_final[posicoes[0]] = valor_dois\n",
    "    cromossomo_final[posicoes[1]] = valor_um\n",
    "    return cromossomo_final"
   ]
  },
  {
   "cell_type": "code",
   "execution_count": 8,
   "id": "4c92d03d",
   "metadata": {},
   "outputs": [],
   "source": [
    "def mutacao_dois(cromo, posicoes):\n",
    "    cromo1 = cromo.copy()\n",
    "    cromo2 = cromo.copy()\n",
    "    valor_um = cromo[posicoes[0]]\n",
    "    valor_dois = cromo[posicoes[1]]\n",
    "    cromo1[posicoes[0]] = 0\n",
    "    cromo1[posicoes[1]] = valor_um + valor_dois\n",
    "    cromo2[posicoes[0]] = valor_um + valor_dois\n",
    "    cromo2[posicoes[1]] = 0\n",
    "    return cromo1, cromo2"
   ]
  },
  {
   "cell_type": "code",
   "execution_count": 9,
   "id": "66225586",
   "metadata": {},
   "outputs": [],
   "source": [
    "def corrigir_fitnesses(fitnesses):\n",
    "    fitnesses_corrigidos = []\n",
    "    for fitness in fitnesses:\n",
    "        if fitness < -1:\n",
    "            fitnesses_corrigidos.append(1 / np.abs(fitness))\n",
    "        elif fitness < 0:\n",
    "            fitnesses_corrigidos.append(np.abs(fitness))\n",
    "        else:\n",
    "            fitnesses_corrigidos.append(fitness)\n",
    "    \n",
    "    return np.array(fitnesses_corrigidos)"
   ]
  },
  {
   "cell_type": "code",
   "execution_count": 10,
   "id": "ec77007f",
   "metadata": {},
   "outputs": [],
   "source": [
    "def substituir_geracoes(fit_pais, fit_filhos, cromos_pais, cromos_filhos):\n",
    "    args_min_pais = fit_pais.argsort()[:2]\n",
    "    args_max_filhos = fit_filhos.argsort()[-2:]\n",
    "    cromos_finais = cromos_pais.copy()\n",
    "    \n",
    "    if fit_filhos[args_max_filhos[-1]] > fit_pais[args_min_pais[0]]:\n",
    "        cromos_finais[args_min_pais[0]] = cromos_filhos[args_max_filhos[-1]]\n",
    "    elif fit_filhos[args_max_filhos[-1]] > fit_pais[args_min_pais[1]]:\n",
    "        cromos_finais[args_min_pais[1]] = cromos_filhos[args_max_filhos[-1]]\n",
    "    else:\n",
    "        return cromos_finais\n",
    "    \n",
    "    if fit_filhos[args_max_filhos[-2]] > fit_pais[args_min_pais[1]]:\n",
    "        cromos_finais[args_min_pais[1]] = cromos_filhos[args_max_filhos[-2]]\n",
    "\n",
    "    return cromos_finais"
   ]
  },
  {
   "cell_type": "code",
   "execution_count": 11,
   "id": "054cadaa",
   "metadata": {},
   "outputs": [],
   "source": [
    "def exportar_df(valor_inv, arr, names_indexes, path_name, perc_corte, casas_arred):\n",
    "    df = pd.DataFrame(data=(np.round(arr, 2)).T, index=names_indexes, columns=[\"%\"])\n",
    "    \n",
    "    for ticker in names_indexes:\n",
    "        if df[\"%\"][ticker] < 0.05:\n",
    "            df.drop(labels=[ticker], inplace=True)\n",
    "    \n",
    "    cotations = []\n",
    "    for ticker in df.index:\n",
    "        cotation = np.round(web.get_data_yahoo(ticker, period='1d' , threads=1)['Adj Close'][0], 2)\n",
    "        cotations.append(cotation)\n",
    "    \n",
    "    df[\"precos\"] = cotations\n",
    "    \n",
    "    df[\"qtd_comprar\"] = np.round((df[\"%\"] * valor_inv) / df[\"precos\"], casas_arred)\n",
    "    \n",
    "    df[\"valor_total\"] = df[\"qtd_comprar\"] * df[\"precos\"]\n",
    "    \n",
    "    df.to_excel(path_name)"
   ]
  },
  {
   "cell_type": "code",
   "execution_count": 12,
   "id": "28115daa",
   "metadata": {},
   "outputs": [],
   "source": [
    "def moneta_ag(arq_txt, dp_final, valor_investimento, percentual_corte, country, exportar_cotacoes):\n",
    "    \n",
    "    dias_cots = 34\n",
    "    cotacoes, tickers, casas_arred = buscar_cotacoes(arquivo_txt=arq_txt, dias_cotacoes=dias_cots, country=country)\n",
    "    \n",
    "    if exportar_cotacoes is True:\n",
    "        cotacoes.to_excel(os.path.join(\"cotacoes\", \"cotacoes.xlsx\"))\n",
    "    \n",
    "    num_cotacoes = cotacoes.shape[0]\n",
    "    num_genes = cotacoes.shape[1]\n",
    "    \n",
    "    cotations_var = calcular_variacoes(cotations=cotacoes, tickers=tickers)\n",
    "    \n",
    "    mat_cov = np.cov(cotations_var.T)\n",
    "    \n",
    "    medias = np.average(cotations_var, axis=0)\n",
    "    \n",
    "    cromossomos = gerar_cromos(num_cols=num_genes, fixar_seed=True)\n",
    "    \n",
    "    retornos_carteiras, riscos_carteiras = calc_retornos_riscos_carteira(cromos=cromossomos, medias=medias, mat_cov=mat_cov)\n",
    "    \n",
    "    fitness_carteiras = retornos_carteiras / riscos_carteiras\n",
    "    \n",
    "    desvio_padrao_carteiras = np.std(fitness_carteiras)\n",
    "\n",
    "    num_filhos = 8\n",
    "    cromossomos_filhos = np.zeros(shape=(num_filhos, num_genes), dtype=float)\n",
    "    desvio_padrao_carteiras = np.inf\n",
    "    \n",
    "    iteracoes = 0\n",
    "    while desvio_padrao_carteiras > dp_final:\n",
    "        fitnesses_corrigidos = corrigir_fitnesses(fitnesses=fitness_carteiras)\n",
    "        fitness_acum = np.cumsum(fitnesses_corrigidos) / fitnesses_corrigidos.sum()\n",
    "        cromo_sorteados = roda_acaso(fitness_acumulado=fitness_acum)\n",
    "        beta = np.random.rand()\n",
    "        cromossomos_filhos[0] = cromossomos[cromo_sorteados[0]] * beta + cromossomos[cromo_sorteados[1]] * (1 - beta)\n",
    "        cromossomos_filhos[1] = cromossomos[cromo_sorteados[0]] * (1 - beta) + cromossomos[cromo_sorteados[1]] * beta\n",
    "\n",
    "        while True:\n",
    "            genes_mutacao_um = np.random.choice(a=range(num_genes), size=2)\n",
    "            genes_mutacao_dois = np.random.choice(a=range(num_genes), size=2)\n",
    "            if genes_mutacao_um[0] != genes_mutacao_um[1] and genes_mutacao_dois[0] != genes_mutacao_dois[1]:\n",
    "                cromossomos_filhos[2] = mutacao_um(cromo=cromossomos_filhos[0], posicoes=genes_mutacao_um)\n",
    "                cromossomos_filhos[3] = mutacao_um(cromo=cromossomos_filhos[1], posicoes=genes_mutacao_dois)\n",
    "                break\n",
    "\n",
    "        while True:\n",
    "            genes_mutacao_um = np.random.choice(a=range(num_genes), size=2)\n",
    "            genes_mutacao_dois = np.random.choice(a=range(num_genes), size=2)\n",
    "            if genes_mutacao_um[0] != genes_mutacao_um[1] and genes_mutacao_dois[0] != genes_mutacao_dois[1]:\n",
    "                cromossomos_filhos[4], cromossomos_filhos[5] = mutacao_dois(cromo=cromossomos_filhos[0], \n",
    "                                                                            posicoes=genes_mutacao_um)\n",
    "                \n",
    "                cromossomos_filhos[6], cromossomos_filhos[7] = mutacao_dois(cromo=cromossomos_filhos[1], \n",
    "                                                                            posicoes=genes_mutacao_dois)\n",
    "                break\n",
    "\n",
    "        retornos_filhos, riscos_filhos = calc_retornos_riscos_carteira(cromos=cromossomos_filhos, \n",
    "                                                                       medias=medias, mat_cov=mat_cov)\n",
    "\n",
    "        fitness_filhos = retornos_filhos / riscos_filhos\n",
    "\n",
    "        cromossomos = substituir_geracoes(fit_pais=fitness_carteiras, fit_filhos=fitness_filhos, \n",
    "                                          cromos_pais=cromossomos, cromos_filhos=cromossomos_filhos)\n",
    "\n",
    "        retornos_carteiras, riscos_carteiras = calc_retornos_riscos_carteira(cromos=cromossomos, \n",
    "                                                                             medias=medias, mat_cov=mat_cov)\n",
    "\n",
    "        fitness_carteiras = retornos_carteiras / riscos_carteiras\n",
    "\n",
    "        desvio_padrao_carteiras = np.std(fitness_carteiras)\n",
    "        \n",
    "        iteracoes += 1\n",
    "\n",
    "\n",
    "    if (np.round(cromossomos.sum(axis=1), 0) == 1).all():\n",
    "        \n",
    "        for i in range(100):\n",
    "            name_file = os.path.join(\"resultados\", f\"resultado_{dias_cots}d_{country}_{i}.xlsx\")\n",
    "            if not os.path.exists(name_file):\n",
    "                path_export = name_file\n",
    "                break\n",
    "        \n",
    "        exportar_df(valor_inv=valor_investimento, arr=cromossomos[0], names_indexes=tickers, \n",
    "                    path_name=path_export, perc_corte=percentual_corte, casas_arred=casas_arred)\n",
    "        print(f\"[INFO] O resultado foi obtido com {iteracoes} iteracoes.\")\n",
    "        print(f\"[INFO] O resultado final foi exportado com sucesso para: {path_export}\")\n",
    "        print(f\"[INFO] O fitness obtido foi de: {round(np.average(fitness_carteiras), 2)}\")\n",
    "        print(f\"[INFO] O retorno esperado é de: {round(np.average(retornos_carteiras), 5) * 100} %\")\n",
    "        print(f\"[INFO] O risco esperado é de: {round(np.average(riscos_carteiras), 5) * 100} %\")\n",
    "    else:\n",
    "        print(f\"[INFO] A soma dos percentuais não resulta 100% para todos os cromossomos\\n {cromossomos.sum(axis=1)}\")"
   ]
  },
  {
   "cell_type": "code",
   "execution_count": 15,
   "id": "8bab396f",
   "metadata": {},
   "outputs": [
    {
     "name": "stdout",
     "output_type": "stream",
     "text": [
      "[*********************100%***********************]  83 of 83 completed\n"
     ]
    },
    {
     "ename": "KeyboardInterrupt",
     "evalue": "",
     "output_type": "error",
     "traceback": [
      "\u001b[1;31m---------------------------------------------------------------------------\u001b[0m",
      "\u001b[1;31mKeyboardInterrupt\u001b[0m                         Traceback (most recent call last)",
      "\u001b[1;32m<ipython-input-15-87b756016d13>\u001b[0m in \u001b[0;36m<module>\u001b[1;34m\u001b[0m\n\u001b[1;32m----> 1\u001b[1;33m moneta_ag(arq_txt=os.path.join(\"tickers\", \"TICKERS_BR.txt\"), dp_final=0.01, valor_investimento=3000, \n\u001b[0m\u001b[0;32m      2\u001b[0m           percentual_corte=0.05, country=\"BR\", exportar_cotacoes=True)\n",
      "\u001b[1;32m<ipython-input-12-3f356ae5fe7c>\u001b[0m in \u001b[0;36mmoneta_ag\u001b[1;34m(arq_txt, dp_final, valor_investimento, percentual_corte, country, exportar_cotacoes)\u001b[0m\n\u001b[0;32m     32\u001b[0m         \u001b[0mfitnesses_corrigidos\u001b[0m \u001b[1;33m=\u001b[0m \u001b[0mcorrigir_fitnesses\u001b[0m\u001b[1;33m(\u001b[0m\u001b[0mfitnesses\u001b[0m\u001b[1;33m=\u001b[0m\u001b[0mfitness_carteiras\u001b[0m\u001b[1;33m)\u001b[0m\u001b[1;33m\u001b[0m\u001b[1;33m\u001b[0m\u001b[0m\n\u001b[0;32m     33\u001b[0m         \u001b[0mfitness_acum\u001b[0m \u001b[1;33m=\u001b[0m \u001b[0mnp\u001b[0m\u001b[1;33m.\u001b[0m\u001b[0mcumsum\u001b[0m\u001b[1;33m(\u001b[0m\u001b[0mfitnesses_corrigidos\u001b[0m\u001b[1;33m)\u001b[0m \u001b[1;33m/\u001b[0m \u001b[0mfitnesses_corrigidos\u001b[0m\u001b[1;33m.\u001b[0m\u001b[0msum\u001b[0m\u001b[1;33m(\u001b[0m\u001b[1;33m)\u001b[0m\u001b[1;33m\u001b[0m\u001b[1;33m\u001b[0m\u001b[0m\n\u001b[1;32m---> 34\u001b[1;33m         \u001b[0mcromo_sorteados\u001b[0m \u001b[1;33m=\u001b[0m \u001b[0mroda_acaso\u001b[0m\u001b[1;33m(\u001b[0m\u001b[0mfitness_acumulado\u001b[0m\u001b[1;33m=\u001b[0m\u001b[0mfitness_acum\u001b[0m\u001b[1;33m)\u001b[0m\u001b[1;33m\u001b[0m\u001b[1;33m\u001b[0m\u001b[0m\n\u001b[0m\u001b[0;32m     35\u001b[0m         \u001b[0mbeta\u001b[0m \u001b[1;33m=\u001b[0m \u001b[0mnp\u001b[0m\u001b[1;33m.\u001b[0m\u001b[0mrandom\u001b[0m\u001b[1;33m.\u001b[0m\u001b[0mrand\u001b[0m\u001b[1;33m(\u001b[0m\u001b[1;33m)\u001b[0m\u001b[1;33m\u001b[0m\u001b[1;33m\u001b[0m\u001b[0m\n\u001b[0;32m     36\u001b[0m         \u001b[0mcromossomos_filhos\u001b[0m\u001b[1;33m[\u001b[0m\u001b[1;36m0\u001b[0m\u001b[1;33m]\u001b[0m \u001b[1;33m=\u001b[0m \u001b[0mcromossomos\u001b[0m\u001b[1;33m[\u001b[0m\u001b[0mcromo_sorteados\u001b[0m\u001b[1;33m[\u001b[0m\u001b[1;36m0\u001b[0m\u001b[1;33m]\u001b[0m\u001b[1;33m]\u001b[0m \u001b[1;33m*\u001b[0m \u001b[0mbeta\u001b[0m \u001b[1;33m+\u001b[0m \u001b[0mcromossomos\u001b[0m\u001b[1;33m[\u001b[0m\u001b[0mcromo_sorteados\u001b[0m\u001b[1;33m[\u001b[0m\u001b[1;36m1\u001b[0m\u001b[1;33m]\u001b[0m\u001b[1;33m]\u001b[0m \u001b[1;33m*\u001b[0m \u001b[1;33m(\u001b[0m\u001b[1;36m1\u001b[0m \u001b[1;33m-\u001b[0m \u001b[0mbeta\u001b[0m\u001b[1;33m)\u001b[0m\u001b[1;33m\u001b[0m\u001b[1;33m\u001b[0m\u001b[0m\n",
      "\u001b[1;32m<ipython-input-6-7599fd7fc12c>\u001b[0m in \u001b[0;36mroda_acaso\u001b[1;34m(fitness_acumulado)\u001b[0m\n\u001b[0;32m      4\u001b[0m         \u001b[0malfa\u001b[0m \u001b[1;33m=\u001b[0m \u001b[0mnp\u001b[0m\u001b[1;33m.\u001b[0m\u001b[0mrandom\u001b[0m\u001b[1;33m.\u001b[0m\u001b[0mrand\u001b[0m\u001b[1;33m(\u001b[0m\u001b[1;33m)\u001b[0m\u001b[1;33m\u001b[0m\u001b[1;33m\u001b[0m\u001b[0m\n\u001b[0;32m      5\u001b[0m         \u001b[1;32mfor\u001b[0m \u001b[0mi\u001b[0m \u001b[1;32min\u001b[0m \u001b[0mrange\u001b[0m\u001b[1;33m(\u001b[0m\u001b[0mfitness_acumulado\u001b[0m\u001b[1;33m.\u001b[0m\u001b[0mshape\u001b[0m\u001b[1;33m[\u001b[0m\u001b[1;36m0\u001b[0m\u001b[1;33m]\u001b[0m\u001b[1;33m)\u001b[0m\u001b[1;33m:\u001b[0m\u001b[1;33m\u001b[0m\u001b[1;33m\u001b[0m\u001b[0m\n\u001b[1;32m----> 6\u001b[1;33m             \u001b[1;32mif\u001b[0m \u001b[0malfa\u001b[0m \u001b[1;33m<=\u001b[0m \u001b[0mfitness_acumulado\u001b[0m\u001b[1;33m[\u001b[0m\u001b[0mi\u001b[0m\u001b[1;33m]\u001b[0m \u001b[1;32mand\u001b[0m \u001b[0mindices_sorteados\u001b[0m\u001b[1;33m[\u001b[0m\u001b[1;33m-\u001b[0m\u001b[1;36m1\u001b[0m\u001b[1;33m]\u001b[0m \u001b[1;33m!=\u001b[0m \u001b[0mi\u001b[0m\u001b[1;33m:\u001b[0m\u001b[1;33m\u001b[0m\u001b[1;33m\u001b[0m\u001b[0m\n\u001b[0m\u001b[0;32m      7\u001b[0m                 \u001b[0mindices_sorteados\u001b[0m\u001b[1;33m.\u001b[0m\u001b[0mappend\u001b[0m\u001b[1;33m(\u001b[0m\u001b[0mi\u001b[0m\u001b[1;33m)\u001b[0m\u001b[1;33m\u001b[0m\u001b[1;33m\u001b[0m\u001b[0m\n\u001b[0;32m      8\u001b[0m                 \u001b[1;32mbreak\u001b[0m\u001b[1;33m\u001b[0m\u001b[1;33m\u001b[0m\u001b[0m\n",
      "\u001b[1;31mKeyboardInterrupt\u001b[0m: "
     ]
    }
   ],
   "source": [
    "moneta_ag(arq_txt=os.path.join(\"tickers\", \"TICKERS_BR.txt\"), dp_final=0.01, valor_investimento=3000, \n",
    "          percentual_corte=0.05, country=\"BR\", exportar_cotacoes=True)"
   ]
  },
  {
   "cell_type": "code",
   "execution_count": null,
   "id": "ad82ce99",
   "metadata": {},
   "outputs": [],
   "source": []
  }
 ],
 "metadata": {
  "kernelspec": {
   "display_name": "Python 3",
   "language": "python",
   "name": "python3"
  },
  "language_info": {
   "codemirror_mode": {
    "name": "ipython",
    "version": 3
   },
   "file_extension": ".py",
   "mimetype": "text/x-python",
   "name": "python",
   "nbconvert_exporter": "python",
   "pygments_lexer": "ipython3",
   "version": "3.8.8"
  }
 },
 "nbformat": 4,
 "nbformat_minor": 5
}
